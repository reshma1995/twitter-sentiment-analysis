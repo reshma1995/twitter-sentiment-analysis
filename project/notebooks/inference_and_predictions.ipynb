{
 "cells": [
  {
   "cell_type": "markdown",
   "id": "42968510-b185-422f-8c73-5e78eb53debf",
   "metadata": {},
   "source": [
    "### Inference"
   ]
  },
  {
   "cell_type": "code",
   "execution_count": 132,
   "id": "74456e7b-e5a7-4a4d-b813-990c926b85ed",
   "metadata": {},
   "outputs": [],
   "source": [
    "import os\n",
    "import json\n",
    "import torch\n",
    "import yaml\n",
    "import time\n",
    "import random\n",
    "import pandas as pd\n",
    "import re\n",
    "import torch.nn as nn\n",
    "import torch.nn.functional as F\n",
    "import numpy as np\n",
    "import string\n",
    "from tqdm import tqdm\n",
    "from bs4 import BeautifulSoup\n",
    "import torch.optim as optim\n",
    "from torch.utils.data import Dataset\n",
    "from torch.utils.data import DataLoader\n",
    "from transformers import BertTokenizer\n",
    "from sklearn.metrics import confusion_matrix, classification_report\n",
    "import seaborn as sns\n",
    "import matplotlib.pyplot as plt"
   ]
  },
  {
   "cell_type": "code",
   "execution_count": 86,
   "id": "45229705-9b8c-4543-9a04-8c5a36f6e607",
   "metadata": {},
   "outputs": [],
   "source": [
    "class DatasetLoader(Dataset):\n",
    "    \n",
    "    def __init__(self, texts, labels, tokenizer):\n",
    "        self.texts = texts\n",
    "        self.labels = labels\n",
    "        self.tokenizer = tokenizer\n",
    "        assert len(texts) == len(labels), \"Length of texts and labels must be the same\"\n",
    "    \n",
    "    def __len__(self):\n",
    "        return len(self.texts)\n",
    "    \n",
    "    def __getitem__(self, idx):\n",
    "        encoded_text = self.tokenizer.encode_plus(\n",
    "            self.texts[idx],\n",
    "            add_special_tokens=True,\n",
    "            max_length=120,\n",
    "            padding='max_length',\n",
    "            truncation=True,\n",
    "            return_attention_mask=True,\n",
    "            return_tensors='pt'\n",
    "        )\n",
    "        \n",
    "        label = torch.tensor(self.labels[idx])\n",
    "        \n",
    "        return (encoded_text['input_ids'].squeeze(0), encoded_text['attention_mask'].squeeze(0)), label\n",
    "\n"
   ]
  },
  {
   "cell_type": "code",
   "execution_count": 229,
   "id": "b90ac83e-9eeb-4ac6-9934-00b1e020acad",
   "metadata": {},
   "outputs": [],
   "source": [
    "class CleanTweets:\n",
    "    \n",
    "    def __init__(self,texts):\n",
    "        self.texts = texts\n",
    "        self.cleaned_tweets = []\n",
    "        \n",
    "    def remove_urls(self,text):\n",
    "        \"\"\"\n",
    "        Regular expression to match URLs and replace with empty string\n",
    "        @param: String\n",
    "        @return: String\n",
    "        \"\"\"\n",
    "        url_pattern = re.compile(r'https?://\\S+|www\\.\\S+|bit\\.ly/\\S+|t\\.co/\\S+|tinyurl\\.\\S+')\n",
    "        return url_pattern.sub('', text)\n",
    "    \n",
    "    def remove_numbers(self,text):\n",
    "        \"\"\"\n",
    "        Regular expression to match numbers and replace with empty string\n",
    "        @param: String\n",
    "        @return: String\n",
    "        \"\"\"\n",
    "        numbers = re.compile(r'[0-9]+')\n",
    "        \n",
    "        # Replace number with an empty string\n",
    "        return numbers.sub('',text)\n",
    "    \n",
    "    def remove_mentions(self,text):\n",
    "        \"\"\"\n",
    "        Regular expression to match mentions and replace with empty string\n",
    "        @param: String\n",
    "        @return: String\n",
    "        \"\"\"\n",
    "        mentions = re.compile(r'@[a-zA-Z0-9_]+')\n",
    "        return mentions.sub('',text)\n",
    "    \n",
    "    def clean_html_tags(self,text):\n",
    "        \"\"\"\n",
    "        Clean html tags off text using bs4\n",
    "        @param: String\n",
    "        @return: String\n",
    "        \"\"\"\n",
    "        return BeautifulSoup(text).get_text()\n",
    "    \n",
    "    def handle_emoticons(self,text):\n",
    "        \"\"\"\n",
    "        Regular expression for emoticons\n",
    "        @param: String\n",
    "        @return: String\n",
    "        \"\"\"\n",
    "        emoticon_pattern = re.compile(r':([\\w-]+):')\n",
    "        modified_sentence = emoticon_pattern.sub(lambda match: ' '+match.group(1).replace('_', '')+' ', text)\n",
    "        \n",
    "        return re.sub(r'\\s+', ' ', modified_sentence)\n",
    "    \n",
    "    def handle_acronyms(self,text):\n",
    "        \"\"\"\n",
    "        Expand acronyms present in the tweets.\n",
    "        @param: String\n",
    "        @return: String\n",
    "        \"\"\"\n",
    "        acronym_dict = {'afaik':'as far as i know','ama':'ask me anything','api':'application programming interface','asmr':'autonomous sensory meridian response','bc':'because'\n",
    "                        ,'b2b':'business-to-business','b2c':'business-to-consumer','b4':'before','bae':'before anyone else',\n",
    "                       'bff':'best friends forever','brb':'be right back','btaim':'be that as it may','bts':'behind the scenes','bwl':'bursting with laughter',\n",
    "                       'btw':'by the way','cc':'carbon copy','cpc':'cost per click','csl':'cannot stop laughing','bftba':'do not forget to be awesome',\n",
    "                       'f2f':'face to face','fb':'facebook','fomo':'fear of missing out','ftfy':'fixed that for you',\n",
    "                       'ftw':'for the win','gg':'good game','gr8':'great','grwm':'get ready with me',\n",
    "                       'goat':'greatest of all time','gtg':'got to go','gtr':'got to run','hbd':'happy birthday',\n",
    "                       'hmb':'hit me back','hifw':'how i feel when','hmu':'hit me up','hth':'happy to help',\n",
    "                       'idc':'i do not care','idk':'i do not know','ifyp':'i feel your pain','ig':'instagram','ikr':'i know right','ily':'i love you',\n",
    "                       'im':'instant message','imho':'in my humble opinion','imo':'in my opinion','imu':'i miss you',\n",
    "                       'irl':'in real life','jk':'just kidding','l8':'late','lamo': 'laughing my ass off','lmk':'let me know','lms':'like my status',\n",
    "                       'lol':'laughing out loud','lolz':'laughing out loud','mcm':'man crush monday','mfw':'my face when',\n",
    "                       'mm':'music monday','msg':'message','mtfbwy':'may the force be with you',\n",
    "                       'nbd':'no big deal','nm':'not much','nsfl':'not safe for life','nsfw':'not safe for work',\n",
    "                       'nvm':'never mind','oan':'on another note',\n",
    "                       'omg':'oh my god','omw':'on my way',\n",
    "                       'ootd':'outfit of the day','op':'original poster','otp':'one true pairing','potd':'photo of the day',\n",
    "                       'ppc':'pay per click','pm':'private message','ppl':'people','pr':'pagerank','psa':'public service accouncement',\n",
    "                       'qotd':'quote of the day','qq':'crying','rofl':'rolling on the floor laughing','roflmao':'rolling on the floor laughing my ass off',\n",
    "                       'roi':'return on investment','rt':'retweet','sc':'snapchat','sem':'search engine marketing','sm':'social media','smh':'shaking my head','sus':'suspicious','tbh':'to be honest',\n",
    "                       'tbt':'throwback thursday','tfw':'that feeling when','tgif':'thank goodness it is friday',\n",
    "                       'thx':'thanks','til':'today i learned','tldr':'too long did not read','tmi':'too much information','tntl':'trying not to laugh',\n",
    "                       'ttyl':'talk to you later','ttyn':'talk to you never','tw':'twitter','txt': 'text','wbu':'what about you ?','w/':'with','wcw':'women crush wednesday',\n",
    "                       'wfh':'work from home','wdymbt':'what do you mean by that?','wom':'word of mouth','wotd':'word of the day',\n",
    "                       'wywh':'wish you were here','ygtr':'you got that right','yolo':'you only live once','ysk':'you should know',\n",
    "                       'yt':'youtube'}\n",
    "        pattern = re.compile(r'\\b(' + '|'.join(re.escape(key) for key in acronym_dict.keys()) + r')\\b')\n",
    "        return pattern.sub(lambda match: acronym_dict[match.group(0)], text)\n",
    "    \n",
    "    def handle_contractions(self, text):\n",
    "        \"\"\"\n",
    "        Expand contractions present in the tweets.\n",
    "        @param: String\n",
    "        @return: String\n",
    "        \"\"\"\n",
    "        CONTRACTION_MAP = {\n",
    "            \"ain't\": \"is not\", \"aren't\": \"are not\", \"can't\": \"cannot\",\n",
    "            \"can't've\": \"cannot have\", \"'cause\": \"because\", \"could've\": \"could have\", \"couldn't\": \"could not\",\n",
    "            \"couldn't've\": \"could not have\", \"didn't\": \"did not\", \"doesn't\": \"does not\",\n",
    "            \"don't\": \"do not\", \"hadn't\": \"had not\",\n",
    "            \"hadn't've\": \"had not have\", \"hasn't\": \"has not\", \"haven't\": \"have not\", \"he'd\": \"he would\",\n",
    "            \"he'd've\": \"he would have\", \"he'll\": \"he will\", \"he'll've\": \"he will have\", \"he's\": \"he is\",\n",
    "            \"how'd\": \"how did\", \"how'd'y\": \"how do you\", \"how'll\": \"how will\", \"how's\": \"how is\", \"I'd\": \"I would\",\n",
    "            \"I'd've\": \"I would have\", \"I'll\": \"I will\", \"I'll've\": \"I will have\", \"I'm\": \"I am\", \"I've\": \"I have\",\n",
    "            \"i'd\": \"i would\", \"i'd've\": \"i would have\", \"i'll\": \"i will\", \"i'll've\": \"i will have\",\n",
    "            \"i'm\": \"i am\", \"i've\": \"i have\", \"isn't\": \"is not\", \"it'd\": \"it would\", \"it'd've\": \"it would have\",\n",
    "            \"it'll\": \"it will\", \"it'll've\": \"it will have\",\n",
    "            \"it's\": \"it is\",\n",
    "            \"let's\": \"let us\",\n",
    "            \"ma'am\": \"madam\",\n",
    "            \"mayn't\": \"may not\",\n",
    "            \"might've\": \"might have\",\n",
    "            \"mightn't\": \"might not\",\n",
    "            \"mightn't've\": \"might not have\",\n",
    "            \"must've\": \"must have\",\n",
    "            \"mustn't\": \"must not\",\n",
    "            \"mustn't've\": \"must not have\",\n",
    "            \"needn't\": \"need not\",\n",
    "            \"needn't've\": \"need not have\",\n",
    "            \"o'clock\": \"of the clock\",\n",
    "            \"oughtn't\": \"ought not\",\n",
    "            \"oughtn't've\": \"ought not have\",\n",
    "            \"shan't\": \"shall not\",\n",
    "            \"sha'n't\": \"shall not\",\n",
    "            \"shan't've\": \"shall not have\",\n",
    "            \"she'd\": \"she would\",\n",
    "            \"she'd've\": \"she would have\",\n",
    "            \"she'll\": \"she will\",\n",
    "            \"she'll've\": \"she will have\",\n",
    "            \"she's\": \"she is\",\n",
    "            \"should've\": \"should have\",\n",
    "            \"shouldn't\": \"should not\",\n",
    "            \"shouldn't've\": \"should not have\",\n",
    "            \"so've\": \"so have\",\n",
    "            \"so's\": \"so as\",\n",
    "            \"that'd\": \"that would\",\n",
    "            \"that'd've\": \"that would have\",\n",
    "            \"that's\": \"that is\",\n",
    "            \"there'd\": \"there would\",\n",
    "            \"there'd've\": \"there would have\",\n",
    "            \"there's\": \"there is\",\n",
    "            \"they'd\": \"they would\",\n",
    "            \"they'd've\": \"they would have\",\n",
    "            \"they'll\": \"they will\",\n",
    "            \"they'll've\": \"they will have\",\n",
    "            \"they're\": \"they are\",\n",
    "            \"they've\": \"they have\",\n",
    "            \"to've\": \"to have\",\n",
    "            \"wasn't\": \"was not\",\n",
    "            \"we'd\": \"we would\",\n",
    "            \"we'd've\": \"we would have\",\n",
    "            \"we'll\": \"we will\",\n",
    "            \"we'll've\": \"we will have\",\n",
    "            \"we're\": \"we are\",\n",
    "            \"we've\": \"we have\",\n",
    "            \"weren't\": \"were not\",\n",
    "            \"what'll\": \"what will\",\n",
    "            \"what'll've\": \"what will have\",\n",
    "            \"what're\": \"what are\",\n",
    "            \"what's\": \"what is\",\n",
    "            \"what've\": \"what have\",\n",
    "            \"when's\": \"when is\",\n",
    "            \"when've\": \"when have\",\n",
    "            \"where'd\": \"where did\",\n",
    "            \"where's\": \"where is\",\n",
    "            \"where've\": \"where have\",\n",
    "            \"who'll\": \"who will\",\n",
    "            \"who'll've\": \"who will have\",\n",
    "            \"who's\": \"who is\",\n",
    "            \"who've\": \"who have\",\n",
    "            \"why's\": \"why is\",\n",
    "            \"why've\": \"why have\",\n",
    "            \"will've\": \"will have\",\n",
    "            \"won't\": \"will not\",\n",
    "            \"won't've\": \"will not have\",\n",
    "            \"would've\": \"would have\",\n",
    "            \"wouldn't\": \"would not\",\n",
    "            \"wouldn't've\": \"would not have\",\n",
    "            \"y'all\": \"you all\",\n",
    "            \"y'all'd\": \"you all would\",\n",
    "            \"y'all'd've\": \"you all would have\",\n",
    "            \"y'all're\": \"you all are\",\n",
    "            \"y'all've\": \"you all have\",\n",
    "            \"you'd\": \"you would\",\n",
    "            \"you'd've\": \"you would have\",\n",
    "            \"you'll\": \"you will\",\n",
    "            \"you'll've\": \"you will have\",\n",
    "            \"you're\": \"you are\",\n",
    "            \"you've\": \"you have\"\n",
    "        }\n",
    "        pattern = re.compile(r'\\b(' + '|'.join(re.escape(key) for key in CONTRACTION_MAP.keys()) + r')\\b')\n",
    "        return pattern.sub(lambda match: CONTRACTION_MAP[match.group(0)], text)\n",
    "\n",
    "    def remove_punctuations(self, text):\n",
    "        \"\"\"\n",
    "        Remove punctuations from the provided text\n",
    "        @param: String\n",
    "        @return: String\n",
    "        \"\"\"\n",
    "        translator = str.maketrans(\"\", \"\", string.punctuation)\n",
    "        return text.translate(translator)\n",
    "    \n",
    "    def handle_hashtags(self,text):\n",
    "        \"\"\"\n",
    "        Remove Hastags from the text\n",
    "        @param: String\n",
    "        @return: String\n",
    "        \"\"\"\n",
    "        hashtag = re.compile(r'#')\n",
    "        return hashtag.sub('',text)\n",
    "    \n",
    "    def clean_tweet(self):\n",
    "        \"\"\"\n",
    "        Builder function to apply complete pre processing of a string\n",
    "        @return: String\n",
    "        \"\"\"\n",
    "        # Function to apply full preprocessing of the text\n",
    "        for text in tqdm(self.texts):\n",
    "            text = text.replace(\"\\\\'\", \"'\")\n",
    "            if text.startswith(\"b'\") or text.startswith('b\"'):\n",
    "                text = text[2:-1]\n",
    "            text = text.replace('\\n', ' ').replace('\\t', ' ').lower()\n",
    "            rt_pattern = re.compile(r'^\\s*rt\\s+', re.IGNORECASE)\n",
    "            text = rt_pattern.sub('', text)\n",
    "            urls_removed = self.remove_urls(text)\n",
    "            numbers_removed = self.remove_numbers(urls_removed)\n",
    "            mentions_removed = self.remove_mentions(numbers_removed)\n",
    "            html_removed = self.clean_html_tags(mentions_removed)\n",
    "            hashtag_removed = self.handle_hashtags(html_removed)\n",
    "            acronyms_expanded = self.handle_acronyms(hashtag_removed)\n",
    "            contractions_expanded = self.handle_contractions(acronyms_expanded)\n",
    "            emoticons_cleaned = self.handle_emoticons(contractions_expanded)\n",
    "            punctuations_removed = self.remove_punctuations(emoticons_cleaned)\n",
    "            self.cleaned_tweets.append(punctuations_removed.strip())\n",
    "        return self.cleaned_tweets"
   ]
  },
  {
   "cell_type": "code",
   "execution_count": 87,
   "id": "786e3e9f-41fe-4ac0-9685-743e6ee4eff2",
   "metadata": {},
   "outputs": [],
   "source": [
    "if torch.backends.mps.is_available():\n",
    "    DEVICE_TYPE = \"mps\"\n",
    "else:\n",
    "    DEVICE_TYPE = \"cpu\""
   ]
  },
  {
   "cell_type": "code",
   "execution_count": 167,
   "id": "92164a5c-6871-4cc2-a121-241f211b3139",
   "metadata": {},
   "outputs": [],
   "source": [
    "cnn_model = \"CNN_Model\"\n",
    "lstm_tc_model = \"LSTM_Text_Classifier\"\n",
    "mlp_class_model = \"MLP_Classifier\"\n",
    "lstm_multihead = \"LSTM_Multi_Head_Attention\"\n",
    "rcnn_model = \"RCNN_Text_Classifier\"\n",
    "yml_file_path = \"../src/configs/hyperparams.yaml\"\n",
    "SPLIT_DATA_FILEPATH = \"../src/dataset/processed/split_data.json\""
   ]
  },
  {
   "cell_type": "code",
   "execution_count": 89,
   "id": "cefae327-cb2b-4c72-ad59-05a797b82f3d",
   "metadata": {},
   "outputs": [],
   "source": [
    "tokenizer = BertTokenizer.from_pretrained('bert-base-uncased')\n",
    "tokenizer_vocab_size = tokenizer.vocab_size"
   ]
  },
  {
   "cell_type": "code",
   "execution_count": 90,
   "id": "5729c0a5-2581-49e7-8b80-d98a4f979d19",
   "metadata": {},
   "outputs": [],
   "source": [
    "def read_config_file(file_name,model_name):\n",
    "    try:\n",
    "        with open(file_name, \"r\") as yamlfile:\n",
    "            data = yaml.load(yamlfile, Loader=yaml.FullLoader)\n",
    "            if model_name:\n",
    "                if model_name in data:\n",
    "                    model_parameters = data[model_name]\n",
    "            else:\n",
    "                model_parameters = data\n",
    "            return model_parameters\n",
    "    except Exception as e:\n",
    "        print(e)\n",
    "        model_parameters = {}\n",
    "        return model_parameters"
   ]
  },
  {
   "cell_type": "code",
   "execution_count": 91,
   "id": "34ddaeac-d669-40b4-aebf-369f4c5b75ba",
   "metadata": {},
   "outputs": [],
   "source": [
    "def inference(model, test_loader, loss_fn, device=DEVICE_TYPE):\n",
    "    \"\"\"\n",
    "    Function to make inference of the trained model. The function will display the classification report and also \n",
    "    the accuracy of each of the model\n",
    "    \"\"\"\n",
    "    model.eval()\n",
    "    total_loss, total_correct = 0, 0\n",
    "    total_samples = 0\n",
    "    all_preds, all_labels = [], []\n",
    "    heads_count = 8\n",
    "    with torch.no_grad():\n",
    "        for test_batch_input, test_batch_label in test_loader:\n",
    "            input_ids, attention_masks = [t.to(device) for t in test_batch_input]\n",
    "            test_batch_label = test_batch_label.to(device)\n",
    "            logits = model(input_ids)\n",
    "            loss = loss_fn(logits, test_batch_label)\n",
    "            total_loss += loss.item() * test_batch_label.size(0)\n",
    "            preds = torch.argmax(logits, dim=1)\n",
    "            test_batch_labels = torch.argmax(test_batch_label, dim=1)\n",
    "            total_correct += (preds == test_batch_labels).sum().item()\n",
    "            total_samples += test_batch_label.size(0)\n",
    "            all_preds.extend(preds.cpu().numpy())\n",
    "            all_labels.extend(test_batch_labels.cpu().numpy())  \n",
    "    avg_loss = total_loss / total_samples\n",
    "    avg_accuracy = (total_correct / total_samples) * 100\n",
    "    cm = confusion_matrix(all_labels, all_preds)\n",
    "    cr = classification_report(all_labels, all_preds, digits=4, target_names=['angry', 'disappointed', 'happy'])\n",
    "    average_attention_weights = []\n",
    "    return avg_loss, avg_accuracy, average_attention_weights, cm, cr"
   ]
  },
  {
   "cell_type": "code",
   "execution_count": 92,
   "id": "ce253a39-f9c2-470d-a0b6-ae0cc600b8eb",
   "metadata": {},
   "outputs": [],
   "source": [
    "def infer(model, loss_fn, file_name):\n",
    "    try:\n",
    "        with open(file_name, 'r', encoding='utf-8') as f:\n",
    "            data = json.load(f)\n",
    "        test_texts, test_labels = data['test_texts'], data['test_labels']\n",
    "        tokenizer = BertTokenizer.from_pretrained('bert-base-uncased')\n",
    "        test_dataset = DatasetLoader(test_texts, test_labels,tokenizer)\n",
    "        print(\"Number of records in test set is: \", len(test_dataset))\n",
    "        num_cpus = os.cpu_count()\n",
    "        test_loader = DataLoader(test_dataset, batch_size=128, num_workers=0)\n",
    "        _, avg_accuracy, attention_weights, cm, cr = inference(model, test_loader, loss_fn, DEVICE_TYPE)\n",
    "        print(\"Accuracy: \", avg_accuracy)\n",
    "        plt.figure(figsize=(10, 7))\n",
    "        sns.heatmap(cm, annot=True, fmt='d', cmap='Blues', xticklabels=True, yticklabels=True)\n",
    "        plt.xlabel('Predicted Labels')\n",
    "        plt.ylabel('True Labels')\n",
    "        plt.title('Confusion Matrix')\n",
    "        plt.show()\n",
    "        print(\"Classification Report:\\n\", cr)\n",
    "    except FileNotFoundError:\n",
    "        raise Exception(f\"The file {file_name} was not found.\")\n",
    "    except json.JSONDecodeError:\n",
    "        raise Exception(f\"The file {file_name} could not be decoded.\")\n",
    "    except Exception as e:\n",
    "        raise Exception(f\"An error occurred: {str(e)}\")\n",
    "        print(\"ERROR\", e)"
   ]
  },
  {
   "cell_type": "markdown",
   "id": "78d5890b-fdcf-4e9e-b7c8-6ea40b9ca059",
   "metadata": {},
   "source": [
    "### Infer CNN Model"
   ]
  },
  {
   "cell_type": "code",
   "execution_count": 93,
   "id": "67f169bb-3734-4cfe-b2e4-13ed535b79d2",
   "metadata": {},
   "outputs": [],
   "source": [
    "class CNN_Model(nn.Module):\n",
    "    def __init__(self,\n",
    "                 vocab_size,\n",
    "                 embed_dim=256, \n",
    "                 filter_sizes=[3, 4, 5],\n",
    "                 num_filters=[200, 250, 200],\n",
    "                 num_classes=3,\n",
    "                 dropout=0.5\n",
    "                 ):\n",
    "        super(CNN_Model, self).__init__()\n",
    "        self.embedding = nn.Embedding(vocab_size, embed_dim)\n",
    "        self.conv1d_list = nn.ModuleList([\n",
    "            nn.Conv1d(in_channels=embed_dim, out_channels=num_filters[i],\n",
    "                     kernel_size=filter_sizes[i])\n",
    "            for i in range(len(filter_sizes))\n",
    "        ])\n",
    "        self.fc1 = nn.Linear(np.sum(num_filters), 256)     \n",
    "        self.fc2 = nn.Linear(256, num_classes)\n",
    "        self.dropout = nn.Dropout(p=dropout)\n",
    "        \n",
    "    def forward(self, x):\n",
    "        x_embed = self.embedding(x)\n",
    "        x_reshaped = x_embed.permute(0, 2, 1)\n",
    "        x_conv_list = [F.relu(conv1d(x_reshaped)) for conv1d in self.conv1d_list]\n",
    "        x_pool_list = [F.max_pool1d(x_conv, kernel_size=x_conv.shape[2]) for x_conv in x_conv_list]\n",
    "        x_fc = torch.cat([x_pool.squeeze(dim=2) for x_pool in x_pool_list], dim=1)\n",
    "        fc1 = self.dropout(F.relu(self.fc1(x_fc)))\n",
    "        logits = self.fc2(fc1)\n",
    "        return logits"
   ]
  },
  {
   "cell_type": "code",
   "execution_count": 94,
   "id": "b63d357b-a09b-4ab4-9bae-5e5ad79cd422",
   "metadata": {},
   "outputs": [],
   "source": [
    "cnn_model_params = read_config_file(yml_file_path, cnn_model)\n",
    "cnn_model_params['vocab_size'] = tokenizer_vocab_size"
   ]
  },
  {
   "cell_type": "code",
   "execution_count": 95,
   "id": "206fae27-2c78-4efb-bc98-630e4d665ca0",
   "metadata": {},
   "outputs": [],
   "source": [
    "cnn_model = CNN_Model(**cnn_model_params)\n",
    "optimizer = optim.Adadelta(cnn_model.parameters(), lr=0.01, rho=0.95)"
   ]
  },
  {
   "cell_type": "code",
   "execution_count": 96,
   "id": "9e1cdbe2-f25a-405c-b0d0-a55e25f9256c",
   "metadata": {},
   "outputs": [],
   "source": [
    "loss_fn = nn.CrossEntropyLoss()"
   ]
  },
  {
   "cell_type": "code",
   "execution_count": 97,
   "id": "604d0621-3b29-4751-9e09-2dcacbb82b3a",
   "metadata": {},
   "outputs": [
    {
     "data": {
      "text/plain": [
       "CNN_Model(\n",
       "  (embedding): Embedding(30522, 128)\n",
       "  (conv1d_list): ModuleList(\n",
       "    (0): Conv1d(128, 64, kernel_size=(3,), stride=(1,))\n",
       "    (1): Conv1d(128, 128, kernel_size=(4,), stride=(1,))\n",
       "    (2): Conv1d(128, 256, kernel_size=(5,), stride=(1,))\n",
       "  )\n",
       "  (fc1): Linear(in_features=448, out_features=256, bias=True)\n",
       "  (fc2): Linear(in_features=256, out_features=3, bias=True)\n",
       "  (dropout): Dropout(p=0.5, inplace=False)\n",
       ")"
      ]
     },
     "execution_count": 97,
     "metadata": {},
     "output_type": "execute_result"
    }
   ],
   "source": [
    "cnn_model.to(DEVICE_TYPE)"
   ]
  },
  {
   "cell_type": "code",
   "execution_count": 98,
   "id": "a65f6f2c-7ca7-446c-8a0a-f3c371b90e4b",
   "metadata": {},
   "outputs": [
    {
     "data": {
      "text/plain": [
       "<All keys matched successfully>"
      ]
     },
     "execution_count": 98,
     "metadata": {},
     "output_type": "execute_result"
    }
   ],
   "source": [
    "cnn_state_dict = torch.load('models/CNN_Model_epoch_1')\n",
    "cnn_model.load_state_dict(cnn_state_dict)"
   ]
  },
  {
   "cell_type": "code",
   "execution_count": 101,
   "id": "e412f82e-c47b-4562-a67e-dc06f3e26d93",
   "metadata": {},
   "outputs": [
    {
     "name": "stdout",
     "output_type": "stream",
     "text": [
      "Number of records in test set is:  137487\n",
      "Accuracy:  75.66097158276783\n"
     ]
    },
    {
     "data": {
      "image/png": "[encoded data removed]",
      "text/plain": [
       "<Figure size 1000x700 with 2 Axes>"
      ]
     },
     "metadata": {},
     "output_type": "display_data"
    },
    {
     "name": "stdout",
     "output_type": "stream",
     "text": [
      "Classification Report:\n",
      "               precision    recall  f1-score   support\n",
      "\n",
      "       angry     0.7404    0.7896    0.7642     45399\n",
      "disappointed     0.7686    0.6236    0.6886     46687\n",
      "       happy     0.7630    0.8604    0.8088     45401\n",
      "\n",
      "    accuracy                         0.7566    137487\n",
      "   macro avg     0.7574    0.7579    0.7539    137487\n",
      "weighted avg     0.7575    0.7566    0.7532    137487\n",
      "\n"
     ]
    }
   ],
   "source": [
    "infer(cnn_model, loss_fn, SPLIT_DATA_FILEPATH)"
   ]
  },
  {
   "cell_type": "markdown",
   "id": "aabada36-e7d6-488f-be40-78e3971460b8",
   "metadata": {},
   "source": [
    "### Infer LSTM Text Classifier Model"
   ]
  },
  {
   "cell_type": "code",
   "execution_count": 102,
   "id": "18ae0a57-9531-40da-9060-d37c6af8dcf6",
   "metadata": {},
   "outputs": [],
   "source": [
    "class LSTM_Text_Classifier(nn.Module):\n",
    "    def __init__(self, vocab_size, embedding_dim, hidden_dim, output_dim, n_layers, bidirectional, dropout):\n",
    "        \"\"\"\n",
    "        Initialize the LSTMTextClassifier model.\n",
    "\n",
    "        Parameters:\n",
    "        @vocab_size: Size of the vocabulary.\n",
    "        @embedding_dim: Dimension of the input embeddings.\n",
    "        @hidden_dim: Dimension of the hidden state in the LSTM.\n",
    "        @output_dim: Number of classes in the output layer.\n",
    "        @n_layers: Number of layers in the LSTM.\n",
    "        @bidirectional: If True, initializes a bidirectional LSTM.\n",
    "        @dropout: Dropout rate for regularization.\n",
    "        \"\"\"\n",
    "        super(LSTM_Text_Classifier, self).__init__()\n",
    "        \n",
    "        self.embedding = nn.Embedding(vocab_size, embedding_dim)\n",
    "        self.lstm = nn.LSTM(embedding_dim, hidden_dim, num_layers=n_layers, bidirectional=bidirectional, dropout=dropout, batch_first=True)\n",
    "        self.fc = nn.Linear(hidden_dim * 2 if bidirectional else hidden_dim, output_dim)        \n",
    "        self.dropout = nn.Dropout(dropout)\n",
    "\n",
    "    def forward(self, x):\n",
    "        \"\"\"\n",
    "        Forward pass through the model.\n",
    "        Params:\n",
    "        @x: input_ids\n",
    "        Returns: The logits for each class.\n",
    "        \"\"\"\n",
    "        text_embeddings = self.embedding(x)\n",
    "        lstm_out, (hidden,cell) = self.lstm(text_embeddings)\n",
    "        if self.lstm.bidirectional:\n",
    "            hidden = torch.cat((hidden[-2,:,:], hidden[-1,:,:]), dim=1)\n",
    "        else:\n",
    "            hidden = hidden[-1,:,:]\n",
    "        hidden = self.dropout(hidden)\n",
    "        logits = self.fc(hidden)\n",
    "        return logits"
   ]
  },
  {
   "cell_type": "code",
   "execution_count": 103,
   "id": "fe8012e9-b1e0-43ee-8f13-233a8c7829c7",
   "metadata": {},
   "outputs": [],
   "source": [
    "lstm_model_params = read_config_file(yml_file_path, lstm_tc_model)\n",
    "lstm_model_params['vocab_size'] = tokenizer_vocab_size"
   ]
  },
  {
   "cell_type": "code",
   "execution_count": 104,
   "id": "3bbc4d50-4548-4012-89f6-184afe649556",
   "metadata": {},
   "outputs": [],
   "source": [
    "lstm_model = LSTM_Text_Classifier(**lstm_model_params)\n",
    "lstm_optimizer = optim.Adadelta(lstm_model.parameters(), lr=0.01, rho=0.95)"
   ]
  },
  {
   "cell_type": "code",
   "execution_count": 105,
   "id": "fddee0d4-339a-4f06-9500-7c55bcbea4a9",
   "metadata": {},
   "outputs": [
    {
     "data": {
      "text/plain": [
       "LSTM_Text_Classifier(\n",
       "  (embedding): Embedding(30522, 128)\n",
       "  (lstm): LSTM(128, 128, num_layers=6, batch_first=True, dropout=0.5, bidirectional=True)\n",
       "  (fc): Linear(in_features=256, out_features=3, bias=True)\n",
       "  (dropout): Dropout(p=0.5, inplace=False)\n",
       ")"
      ]
     },
     "execution_count": 105,
     "metadata": {},
     "output_type": "execute_result"
    }
   ],
   "source": [
    "loss_fn = nn.CrossEntropyLoss()\n",
    "lstm_model.to(DEVICE_TYPE)"
   ]
  },
  {
   "cell_type": "code",
   "execution_count": 106,
   "id": "ae48b7eb-b609-4fff-b39a-1d7a3c8e3bd5",
   "metadata": {},
   "outputs": [
    {
     "data": {
      "text/plain": [
       "<All keys matched successfully>"
      ]
     },
     "execution_count": 106,
     "metadata": {},
     "output_type": "execute_result"
    }
   ],
   "source": [
    "lstm_state_dict = torch.load('models/LSTM_Text_Classifier_epoch_1')\n",
    "lstm_model.load_state_dict(lstm_state_dict)"
   ]
  },
  {
   "cell_type": "code",
   "execution_count": 108,
   "id": "54e95432-3c15-4531-85a6-1b9b61444464",
   "metadata": {},
   "outputs": [
    {
     "name": "stdout",
     "output_type": "stream",
     "text": [
      "Number of records in test set is:  137487\n",
      "Accuracy:  33.95739233527533\n"
     ]
    },
    {
     "name": "stderr",
     "output_type": "stream",
     "text": [
      "/opt/anaconda3/lib/python3.12/site-packages/sklearn/metrics/_classification.py:1509: UndefinedMetricWarning: Precision is ill-defined and being set to 0.0 in labels with no predicted samples. Use `zero_division` parameter to control this behavior.\n",
      "  _warn_prf(average, modifier, f\"{metric.capitalize()} is\", len(result))\n",
      "/opt/anaconda3/lib/python3.12/site-packages/sklearn/metrics/_classification.py:1509: UndefinedMetricWarning: Precision is ill-defined and being set to 0.0 in labels with no predicted samples. Use `zero_division` parameter to control this behavior.\n",
      "  _warn_prf(average, modifier, f\"{metric.capitalize()} is\", len(result))\n",
      "/opt/anaconda3/lib/python3.12/site-packages/sklearn/metrics/_classification.py:1509: UndefinedMetricWarning: Precision is ill-defined and being set to 0.0 in labels with no predicted samples. Use `zero_division` parameter to control this behavior.\n",
      "  _warn_prf(average, modifier, f\"{metric.capitalize()} is\", len(result))\n"
     ]
    },
    {
     "data": {
      "image/png": "[encoded data removed]",
      "text/plain": [
       "<Figure size 1000x700 with 2 Axes>"
      ]
     },
     "metadata": {},
     "output_type": "display_data"
    },
    {
     "name": "stdout",
     "output_type": "stream",
     "text": [
      "Classification Report:\n",
      "               precision    recall  f1-score   support\n",
      "\n",
      "       angry     0.0000    0.0000    0.0000     45399\n",
      "disappointed     0.3396    1.0000    0.5070     46687\n",
      "       happy     0.0000    0.0000    0.0000     45401\n",
      "\n",
      "    accuracy                         0.3396    137487\n",
      "   macro avg     0.1132    0.3333    0.1690    137487\n",
      "weighted avg     0.1153    0.3396    0.1722    137487\n",
      "\n"
     ]
    }
   ],
   "source": [
    "infer(lstm_model, loss_fn, SPLIT_DATA_FILEPATH)"
   ]
  },
  {
   "cell_type": "markdown",
   "id": "b4a94224-4dc6-44e9-abf9-d628c3059ed7",
   "metadata": {},
   "source": [
    "### Infer MLP Classifier Model"
   ]
  },
  {
   "cell_type": "code",
   "execution_count": 112,
   "id": "e29f7b57-13cc-4a7a-9399-42d57edc8bff",
   "metadata": {},
   "outputs": [],
   "source": [
    "class MLP_Classifier(nn.Module):\n",
    "    def __init__(self, vocab_size, input_dim, hidden_size, num_classes=2, dropout=0.5):\n",
    "        \"\"\"\n",
    "        Params:\n",
    "        @vocab_size: Size of the vocabulary.\n",
    "        @input_dim: Dimension of the input embeddings.\n",
    "        @hidden_dim: Dimension of the hidden state in the LSTM.\n",
    "        @num_classes: Number of classes in the output layer.\n",
    "        @dropout: Dropout rate for regularization.\n",
    "        \"\"\"\n",
    "        super(MLP_Classifier, self).__init__()\n",
    "        self.embedding = nn.Embedding(vocab_size, input_dim)\n",
    "        self.fc1 = nn.Linear(input_dim * 120, hidden_size)\n",
    "        self.relu = nn.ReLU()\n",
    "        self.fc2 = nn.Linear(hidden_size, hidden_size // 2)\n",
    "        self.fc3 = nn.Linear(hidden_size // 2, hidden_size // 4)\n",
    "        self.fc4 = nn.Linear(hidden_size // 4, num_classes)\n",
    "        self.dropout = nn.Dropout(dropout)\n",
    "\n",
    "    def forward(self, x):\n",
    "        embeddings = self.embedding(x)\n",
    "        x = embeddings.view(embeddings.size(0), -1)\n",
    "        x = self.relu(self.fc1(x))\n",
    "        x = self.dropout(x)\n",
    "        x = self.relu(self.fc2(x))\n",
    "        x = self.dropout(x)\n",
    "        x = self.relu(self.fc3(x))\n",
    "        x = self.dropout(x)\n",
    "        x = self.fc4(x)\n",
    "        return x\n"
   ]
  },
  {
   "cell_type": "code",
   "execution_count": 113,
   "id": "06de8705-4312-40e8-a9c7-92192dd27c0f",
   "metadata": {},
   "outputs": [],
   "source": [
    "mlp_model_params = read_config_file(yml_file_path, mlp_class_model)\n",
    "mlp_model_params['vocab_size'] = tokenizer_vocab_size"
   ]
  },
  {
   "cell_type": "code",
   "execution_count": 114,
   "id": "ef5abc9f-9c74-471f-a18d-ad13b9875a13",
   "metadata": {},
   "outputs": [],
   "source": [
    "mlp_model = MLP_Classifier(**mlp_model_params)\n",
    "mlp_optimizer = optim.Adadelta(mlp_model.parameters(), lr=0.01, rho=0.95)"
   ]
  },
  {
   "cell_type": "code",
   "execution_count": 115,
   "id": "db651b5d-3986-4e0c-8d57-3d43c0f70a88",
   "metadata": {},
   "outputs": [
    {
     "data": {
      "text/plain": [
       "MLP_Classifier(\n",
       "  (embedding): Embedding(30522, 128)\n",
       "  (fc1): Linear(in_features=15360, out_features=2048, bias=True)\n",
       "  (relu): ReLU()\n",
       "  (fc2): Linear(in_features=2048, out_features=1024, bias=True)\n",
       "  (fc3): Linear(in_features=1024, out_features=512, bias=True)\n",
       "  (fc4): Linear(in_features=512, out_features=3, bias=True)\n",
       "  (dropout): Dropout(p=0.5, inplace=False)\n",
       ")"
      ]
     },
     "execution_count": 115,
     "metadata": {},
     "output_type": "execute_result"
    }
   ],
   "source": [
    "loss_fn = nn.CrossEntropyLoss()\n",
    "mlp_model.to(DEVICE_TYPE)"
   ]
  },
  {
   "cell_type": "code",
   "execution_count": 116,
   "id": "1acbc4e3-4131-4c8c-94e3-b454d9906f3c",
   "metadata": {},
   "outputs": [
    {
     "name": "stdout",
     "output_type": "stream",
     "text": [
      "Number of records in test set is:  137487\n",
      "Accuracy:  34.67891509742739\n"
     ]
    },
    {
     "data": {
      "image/png": "[encoded data removed]",
      "text/plain": [
       "<Figure size 1000x700 with 2 Axes>"
      ]
     },
     "metadata": {},
     "output_type": "display_data"
    },
    {
     "name": "stdout",
     "output_type": "stream",
     "text": [
      "Classification Report:\n",
      "               precision    recall  f1-score   support\n",
      "\n",
      "       angry     0.2680    0.0540    0.0899     45399\n",
      "disappointed     0.3458    0.8453    0.4908     46687\n",
      "       happy     0.4054    0.1269    0.1933     45401\n",
      "\n",
      "    accuracy                         0.3468    137487\n",
      "   macro avg     0.3397    0.3421    0.2580    137487\n",
      "weighted avg     0.3398    0.3468    0.2602    137487\n",
      "\n"
     ]
    }
   ],
   "source": [
    "infer(mlp_model, loss_fn, SPLIT_DATA_FILEPATH)"
   ]
  },
  {
   "cell_type": "markdown",
   "id": "b16571a0-7e06-43e8-82c5-592be0cd0bd2",
   "metadata": {},
   "source": [
    "### Infer LSTM Multi Head Attention Model"
   ]
  },
  {
   "cell_type": "code",
   "execution_count": 118,
   "id": "ac3988a5-c728-418a-84c9-408fc66f72a6",
   "metadata": {},
   "outputs": [],
   "source": [
    "class LSTM_Multi_Head_Attention(nn.Module):\n",
    "    def __init__(self, vocab_size, input_dim, hidden_dim, output_dim, num_layers, bidirectional , dropout,\n",
    "                num_heads):\n",
    "        \"\"\"\n",
    "        Params:\n",
    "        @vocab_size: Size of the vocabulary.\n",
    "        @embedding_dim: Dimension of the input embeddings.\n",
    "        @hidden_dim: Dimension of the hidden state in the LSTM.\n",
    "        @output_dim: Number of classes in the output layer.\n",
    "        @n_layers: Number of layers in the LSTM.\n",
    "        @bidirectional: If True, initializes a bidirectional LSTM.\n",
    "        @dropout: Dropout rate for regularization.\n",
    "        \"\"\"\n",
    "        super(LSTM_Multi_Head_Attention, self).__init__()\n",
    "        self.embedding = nn.Embedding(vocab_size, input_dim)\n",
    "        self.hidden_dim = hidden_dim\n",
    "        self.num_layers = num_layers\n",
    "        self.num_heads = num_heads\n",
    "        self.bidirectional = bidirectional\n",
    "        self.lstm = nn.LSTM(input_dim, hidden_dim, num_layers=num_layers, bidirectional=self.bidirectional, batch_first=True, dropout=dropout)\n",
    "        \n",
    "        # Attention Layer\n",
    "        if self.bidirectional:\n",
    "            self.head_dim = hidden_dim * 2 // num_heads\n",
    "        else:\n",
    "            self.head_dim = hidden_dim // num_heads\n",
    "        assert self.hidden_dim % num_heads == 0, \"hidden_dim must be divisible by the number of heads\"\n",
    "        if self.bidirectional:\n",
    "            self.query_layers = nn.ModuleList([nn.Linear(hidden_dim * 2, self.head_dim) for _ in range(self.num_heads)])\n",
    "            self.key_layers = nn.ModuleList([nn.Linear(hidden_dim * 2, self.head_dim) for _ in range(self.num_heads)])\n",
    "            self.value_layers = nn.ModuleList([nn.Linear(hidden_dim * 2, self.head_dim) for _ in range(self.num_heads)])\n",
    "        elif not self.bidirectional:\n",
    "            self.query_layers = nn.ModuleList([nn.Linear(hidden_dim, self.head_dim) for _ in range(self.num_heads)])\n",
    "            self.key_layers = nn.ModuleList([nn.Linear(hidden_dim, self.head_dim) for _ in range(self.num_heads)])\n",
    "            self.value_layers = nn.ModuleList([nn.Linear(hidden_dim, self.head_dim) for _ in range(self.num_heads)])\n",
    "        self.fc = nn.Linear(hidden_dim * 2, output_dim)\n",
    "        self.last_attention_weights = None\n",
    "        self.dropout = nn.Dropout(p=dropout)\n",
    "\n",
    "    def attention_net(self, lstm_outputs):\n",
    "        \"\"\"\n",
    "        Multi-Head Attention mechanism\n",
    "        \"\"\"\n",
    "        attention_outputs = []\n",
    "        attention_scores = []\n",
    "        for i in range(self.num_heads):\n",
    "            Q = self.query_layers[i](lstm_outputs)\n",
    "            Q = self.dropout(Q)\n",
    "            K = self.key_layers[i](lstm_outputs)\n",
    "            K = self.dropout(K)\n",
    "            V = self.value_layers[i](lstm_outputs)\n",
    "            V = self.dropout(V)\n",
    "            scores = torch.bmm(Q, K.transpose(1, 2)) / (self.head_dim ** 0.5)\n",
    "            scores = F.softmax(scores, dim=-1)\n",
    "            output = torch.bmm(scores, V)\n",
    "            attention_scores.append(scores)\n",
    "            attention_outputs.append(output)\n",
    "        final_output = torch.cat(attention_outputs, dim=-1)\n",
    "        self.last_attention_weights = attention_scores\n",
    "        return final_output, attention_scores\n",
    "            \n",
    "        \n",
    "    def forward(self, x):\n",
    "        h0 = torch.zeros(self.num_layers*2, x.size(0), self.hidden_dim).requires_grad_().to(DEVICE_TYPE)\n",
    "        c0 = torch.zeros(self.num_layers * 2, x.size(0), self.hidden_dim).requires_grad_().to(DEVICE_TYPE)\n",
    "        x = self.embedding(x)\n",
    "        lstm_out, (hn, cn) = self.lstm(x, (h0.detach(),c0.detach()))\n",
    "        attention_output, attention_weights = self.attention_net(lstm_out)\n",
    "        final_attention_output = torch.mean(attention_output, dim=1)\n",
    "        out = self.fc(final_attention_output)\n",
    "        return out"
   ]
  },
  {
   "cell_type": "code",
   "execution_count": 119,
   "id": "1a861116-01d6-4c40-a2db-801e1beead04",
   "metadata": {},
   "outputs": [],
   "source": [
    "lstm_mh_model_params = read_config_file(yml_file_path, lstm_multihead)\n",
    "lstm_mh_model_params['vocab_size'] = tokenizer_vocab_size"
   ]
  },
  {
   "cell_type": "code",
   "execution_count": 122,
   "id": "e1574530-def3-4e45-b9c0-aebb6ec908cf",
   "metadata": {},
   "outputs": [],
   "source": [
    "lstm_mh_model = LSTM_Multi_Head_Attention(**lstm_mh_model_params)\n",
    "lstm_mh_optimizer = optim.Adadelta(lstm_mh_model.parameters(), lr=0.01, rho=0.95)"
   ]
  },
  {
   "cell_type": "code",
   "execution_count": 123,
   "id": "fa77471f-0303-4e92-92d0-ac133ce2a8ed",
   "metadata": {},
   "outputs": [
    {
     "data": {
      "text/plain": [
       "LSTM_Multi_Head_Attention(\n",
       "  (embedding): Embedding(30522, 128)\n",
       "  (lstm): LSTM(128, 128, num_layers=6, batch_first=True, dropout=0.5, bidirectional=True)\n",
       "  (query_layers): ModuleList(\n",
       "    (0-7): 8 x Linear(in_features=256, out_features=32, bias=True)\n",
       "  )\n",
       "  (key_layers): ModuleList(\n",
       "    (0-7): 8 x Linear(in_features=256, out_features=32, bias=True)\n",
       "  )\n",
       "  (value_layers): ModuleList(\n",
       "    (0-7): 8 x Linear(in_features=256, out_features=32, bias=True)\n",
       "  )\n",
       "  (fc): Linear(in_features=256, out_features=3, bias=True)\n",
       "  (dropout): Dropout(p=0.5, inplace=False)\n",
       ")"
      ]
     },
     "execution_count": 123,
     "metadata": {},
     "output_type": "execute_result"
    }
   ],
   "source": [
    "loss_fn = nn.CrossEntropyLoss()\n",
    "lstm_mh_model.to(DEVICE_TYPE)"
   ]
  },
  {
   "cell_type": "code",
   "execution_count": 124,
   "id": "ac182a65-8d71-49cb-87e1-5d7143e16ce5",
   "metadata": {},
   "outputs": [
    {
     "name": "stdout",
     "output_type": "stream",
     "text": [
      "Number of records in test set is:  137487\n",
      "Accuracy:  33.95739233527533\n"
     ]
    },
    {
     "name": "stderr",
     "output_type": "stream",
     "text": [
      "/opt/anaconda3/lib/python3.12/site-packages/sklearn/metrics/_classification.py:1509: UndefinedMetricWarning: Precision is ill-defined and being set to 0.0 in labels with no predicted samples. Use `zero_division` parameter to control this behavior.\n",
      "  _warn_prf(average, modifier, f\"{metric.capitalize()} is\", len(result))\n",
      "/opt/anaconda3/lib/python3.12/site-packages/sklearn/metrics/_classification.py:1509: UndefinedMetricWarning: Precision is ill-defined and being set to 0.0 in labels with no predicted samples. Use `zero_division` parameter to control this behavior.\n",
      "  _warn_prf(average, modifier, f\"{metric.capitalize()} is\", len(result))\n",
      "/opt/anaconda3/lib/python3.12/site-packages/sklearn/metrics/_classification.py:1509: UndefinedMetricWarning: Precision is ill-defined and being set to 0.0 in labels with no predicted samples. Use `zero_division` parameter to control this behavior.\n",
      "  _warn_prf(average, modifier, f\"{metric.capitalize()} is\", len(result))\n"
     ]
    },
    {
     "data": {
      "image/png": "[encoded data removed]",
      "text/plain": [
       "<Figure size 1000x700 with 2 Axes>"
      ]
     },
     "metadata": {},
     "output_type": "display_data"
    },
    {
     "name": "stdout",
     "output_type": "stream",
     "text": [
      "Classification Report:\n",
      "               precision    recall  f1-score   support\n",
      "\n",
      "       angry     0.0000    0.0000    0.0000     45399\n",
      "disappointed     0.3396    1.0000    0.5070     46687\n",
      "       happy     0.0000    0.0000    0.0000     45401\n",
      "\n",
      "    accuracy                         0.3396    137487\n",
      "   macro avg     0.1132    0.3333    0.1690    137487\n",
      "weighted avg     0.1153    0.3396    0.1722    137487\n",
      "\n"
     ]
    }
   ],
   "source": [
    "infer(lstm_mh_model, loss_fn, SPLIT_DATA_FILEPATH)"
   ]
  },
  {
   "cell_type": "markdown",
   "id": "96b1f06a-2688-4d00-9956-db6167035527",
   "metadata": {},
   "source": [
    "### Infer RCNN Text Classifier Model (LSTM + CNN Combination)"
   ]
  },
  {
   "cell_type": "code",
   "execution_count": 166,
   "id": "a13105fa-3970-4407-9f39-bd232c313a66",
   "metadata": {},
   "outputs": [],
   "source": [
    "class RCNN_Text_Classifier(nn.Module):\n",
    "    def __init__(self, vocab_size, embedding_dim=128, hidden_dim=128, output_dim=3, dropout=0.5):\n",
    "        \"\"\"\n",
    "        RCNN model combining LSTM and CNN.\n",
    "\n",
    "        Params:\n",
    "        @vocab_size: Size of vocabulary.\n",
    "        @embedding_dim: Dimension of input embeddings.\n",
    "        @hidden_dim: Hidden state size for LSTM.\n",
    "        @output_dim: Number of output classes.\n",
    "        @dropout: Dropout rate.\n",
    "        \"\"\"\n",
    "        super(RCNN_Text_Classifier, self).__init__()\n",
    "        self.embedding = nn.Embedding(vocab_size, embedding_dim)\n",
    "        self.lstm = nn.LSTM(embedding_dim, hidden_dim, num_layers=1, bidirectional=True, batch_first=True)\n",
    "        self.conv = nn.Conv1d(in_channels=embedding_dim + 2 * hidden_dim, out_channels=128, kernel_size=3, padding=1)\n",
    "        self.fc = nn.Linear(128, output_dim)\n",
    "        self.dropout = nn.Dropout(dropout)\n",
    "\n",
    "    def forward(self, x):\n",
    "        embeddings = self.embedding(x)\n",
    "        lstm_out, _ = self.lstm(embeddings)\n",
    "        combined = torch.cat([embeddings, lstm_out], dim=2)\n",
    "        combined = combined.permute(0, 2, 1)\n",
    "        conv_out = F.relu(self.conv(combined))\n",
    "        pooled = F.max_pool1d(conv_out, kernel_size=conv_out.shape[2]).squeeze(2)\n",
    "        dropped = self.dropout(pooled)\n",
    "        logits = self.fc(dropped)\n",
    "        return logits\n"
   ]
  },
  {
   "cell_type": "code",
   "execution_count": 168,
   "id": "5e5408e6-6179-484f-82b8-2d18e5dd4aa0",
   "metadata": {},
   "outputs": [],
   "source": [
    "rcnn_model_params = read_config_file(yml_file_path, rcnn_model)\n",
    "rcnn_model_params['vocab_size'] = tokenizer_vocab_size"
   ]
  },
  {
   "cell_type": "code",
   "execution_count": 170,
   "id": "95e141d0-e768-41c3-8a26-375bb8cd80db",
   "metadata": {},
   "outputs": [],
   "source": [
    "rcnn_model = RCNN_Text_Classifier(**rcnn_model_params)\n",
    "rcnn_optimizer = optim.Adadelta(rcnn_model.parameters(), lr=0.01, rho=0.95)"
   ]
  },
  {
   "cell_type": "code",
   "execution_count": 171,
   "id": "f33b8033-f6d4-4dd7-912d-3eab56ec214a",
   "metadata": {},
   "outputs": [
    {
     "data": {
      "text/plain": [
       "RCNN_Text_Classifier(\n",
       "  (embedding): Embedding(30522, 128)\n",
       "  (lstm): LSTM(128, 128, batch_first=True, bidirectional=True)\n",
       "  (conv): Conv1d(384, 128, kernel_size=(3,), stride=(1,), padding=(1,))\n",
       "  (fc): Linear(in_features=128, out_features=3, bias=True)\n",
       "  (dropout): Dropout(p=0.5, inplace=False)\n",
       ")"
      ]
     },
     "execution_count": 171,
     "metadata": {},
     "output_type": "execute_result"
    }
   ],
   "source": [
    "loss_fn = nn.CrossEntropyLoss()\n",
    "rcnn_model.to(DEVICE_TYPE)"
   ]
  },
  {
   "cell_type": "code",
   "execution_count": 172,
   "id": "5e82c932-6bd1-4081-b47f-53d3e5b6013c",
   "metadata": {},
   "outputs": [
    {
     "name": "stdout",
     "output_type": "stream",
     "text": [
      "Number of records in test set is:  137487\n",
      "Accuracy:  33.95739233527533\n"
     ]
    },
    {
     "name": "stderr",
     "output_type": "stream",
     "text": [
      "/opt/anaconda3/lib/python3.12/site-packages/sklearn/metrics/_classification.py:1509: UndefinedMetricWarning: Precision is ill-defined and being set to 0.0 in labels with no predicted samples. Use `zero_division` parameter to control this behavior.\n",
      "  _warn_prf(average, modifier, f\"{metric.capitalize()} is\", len(result))\n",
      "/opt/anaconda3/lib/python3.12/site-packages/sklearn/metrics/_classification.py:1509: UndefinedMetricWarning: Precision is ill-defined and being set to 0.0 in labels with no predicted samples. Use `zero_division` parameter to control this behavior.\n",
      "  _warn_prf(average, modifier, f\"{metric.capitalize()} is\", len(result))\n",
      "/opt/anaconda3/lib/python3.12/site-packages/sklearn/metrics/_classification.py:1509: UndefinedMetricWarning: Precision is ill-defined and being set to 0.0 in labels with no predicted samples. Use `zero_division` parameter to control this behavior.\n",
      "  _warn_prf(average, modifier, f\"{metric.capitalize()} is\", len(result))\n"
     ]
    },
    {
     "data": {
      "image/png": "[encoded data removed]",
      "text/plain": [
       "<Figure size 1000x700 with 2 Axes>"
      ]
     },
     "metadata": {},
     "output_type": "display_data"
    },
    {
     "name": "stdout",
     "output_type": "stream",
     "text": [
      "Classification Report:\n",
      "               precision    recall  f1-score   support\n",
      "\n",
      "       angry     0.0000    0.0000    0.0000     45399\n",
      "disappointed     0.3396    1.0000    0.5070     46687\n",
      "       happy     0.0000    0.0000    0.0000     45401\n",
      "\n",
      "    accuracy                         0.3396    137487\n",
      "   macro avg     0.1132    0.3333    0.1690    137487\n",
      "weighted avg     0.1153    0.3396    0.1722    137487\n",
      "\n"
     ]
    }
   ],
   "source": [
    "infer(rcnn_model, loss_fn, SPLIT_DATA_FILEPATH)"
   ]
  },
  {
   "cell_type": "markdown",
   "id": "9c825a39-7ec2-4c74-b1ea-eeb69b3250ac",
   "metadata": {},
   "source": [
    "### Predictions"
   ]
  },
  {
   "cell_type": "code",
   "execution_count": 252,
   "id": "24e843b6-f256-4378-a6fa-b82dc05f7e42",
   "metadata": {},
   "outputs": [],
   "source": [
    "def predict(input_text, model):\n",
    "    input_text = [input_text]\n",
    "    cleaned_tweet = CleanTweets(input_text).clean_tweet()\n",
    "    print(\"Cleaned Tweet: \", cleaned_tweet)\n",
    "    tokenizer = BertTokenizer.from_pretrained('bert-base-uncased')\n",
    "    encoded_text = tokenizer.encode_plus(\n",
    "        cleaned_tweet,\n",
    "        add_special_tokens=True,\n",
    "        max_length=120,\n",
    "        padding='max_length',\n",
    "        truncation=True,\n",
    "        return_attention_mask=True,\n",
    "        return_tensors='pt'\n",
    "    )\n",
    "    token_ids, atten_masks = encoded_text['input_ids'].squeeze(0), encoded_text['attention_mask'].squeeze(0)\n",
    "    vocab_size = tokenizer.vocab_size\n",
    "    if model == 'CNN':\n",
    "        model_params = read_config_file(yml_file_path, 'CNN_Model')\n",
    "        model_params['vocab_size'] = vocab_size\n",
    "        model = CNN_Model(**model_params)\n",
    "        model.load_state_dict(torch.load('models/CNN_Model_epoch_1'))\n",
    "    elif model == 'LSTM':\n",
    "        model_params = read_config_file(yml_file_path, 'LSTM_Text_Classifier')\n",
    "        model_params['vocab_size'] = vocab_size\n",
    "        model = LSTM_Text_Classifier(**model_params)\n",
    "        model.load_state_dict(torch.load('models/LSTM_Text_Classifier_epoch_1'))\n",
    "    elif model == 'MLP':\n",
    "        model_params = read_config_file(yml_file_path, 'MLP_Classifier')\n",
    "        model_params['vocab_size'] = vocab_size\n",
    "        model = MLP_Classifier(**model_params)\n",
    "        model.load_state_dict(torch.load('models/MLP_Classifier_epoch_1'))\n",
    "    elif model == 'RCNN':\n",
    "        model_params = read_config_file(yml_file_path, 'RCNN_Text_Classifier')\n",
    "        model_params['vocab_size'] = vocab_size\n",
    "        model = RCNN_Text_Classifier(**model_params)\n",
    "        model.load_state_dict(torch.load('models/RCNN_Text_Classifier_epoch_1'))\n",
    "    else:\n",
    "        model_params = read_config_file(yml_file_path, 'LSTM_Multi_Head_Attention')\n",
    "        model_params['vocab_size'] = vocab_size\n",
    "        model = LSTM_Multi_Head_Attention(**model_params)\n",
    "        model.load_state_dict(torch.load('models/LSTM_Multi_Head_Attention_epoch_1'))\n",
    "    \n",
    "    model.to(DEVICE_TYPE)\n",
    "    token_ids = token_ids.to(DEVICE_TYPE)\n",
    "    model.eval()\n",
    "    with torch.no_grad():\n",
    "        output = model(token_ids.unsqueeze(0))\n",
    "        prediction = torch.argmax(output, dim=1).item()\n",
    "        print(\"output\", output)\n",
    "        print(\"prediction\", prediction)\n",
    "    return prediction"
   ]
  },
  {
   "cell_type": "code",
   "execution_count": 235,
   "id": "10da6fb6-41ee-43cd-bb0a-7d9e1c1e76bb",
   "metadata": {},
   "outputs": [],
   "source": [
    "def get_prediction(input_text, model_name):\n",
    "    predictions = predict(input_text, model_name)\n",
    "    pred_dict = {0: 'Angry', 1:'Disappointed', 2:'Happy'}\n",
    "    model_pred = pred_dict[int(predictions)]\n",
    "    return model_pred"
   ]
  },
  {
   "cell_type": "markdown",
   "id": "88e1cc2d-df87-4c67-9008-d27dbb843ca0",
   "metadata": {},
   "source": [
    "### CNN Model Predictions"
   ]
  },
  {
   "cell_type": "code",
   "execution_count": 245,
   "id": "e76a1e05-b5f3-4974-b8e5-ff752639612d",
   "metadata": {},
   "outputs": [],
   "source": [
    "input_text = \"I can't believe you let me down again—I really expected better from you.\"\n",
    "model_name = \"CNN\""
   ]
  },
  {
   "cell_type": "code",
   "execution_count": 246,
   "id": "58052061-2864-4159-b32f-030d0e45119e",
   "metadata": {},
   "outputs": [
    {
     "name": "stderr",
     "output_type": "stream",
     "text": [
      "100%|████████████████████████████████████████████| 1/1 [00:00<00:00, 582.38it/s]\n"
     ]
    },
    {
     "name": "stdout",
     "output_type": "stream",
     "text": [
      "Cleaned Tweet:  ['i cannot believe you let me down again—i really expected better from you']\n",
      "output tensor([[ 0.6529,  0.5327, -0.9716]], device='mps:0')\n",
      "prediction 0\n",
      "Prediction:  Angry\n"
     ]
    }
   ],
   "source": [
    "print(\"Prediction: \", get_prediction(input_text, model_name))"
   ]
  },
  {
   "cell_type": "markdown",
   "id": "b910fbb3-8e74-4609-930d-bae463e4f289",
   "metadata": {},
   "source": [
    "### LSTM Text Classifier Model Predictions"
   ]
  },
  {
   "cell_type": "code",
   "execution_count": 253,
   "id": "f82cc9eb-c401-450c-b8e0-4eb2c9810a60",
   "metadata": {},
   "outputs": [],
   "source": [
    "input_text = \"I can't believe you let me down again—I really expected better from you.\"\n",
    "model_name = \"LSTM\""
   ]
  },
  {
   "cell_type": "code",
   "execution_count": 254,
   "id": "a6e236f5-2fdf-4542-bd1d-7bf2f7908fb2",
   "metadata": {},
   "outputs": [
    {
     "name": "stderr",
     "output_type": "stream",
     "text": [
      "100%|████████████████████████████████████████████| 1/1 [00:00<00:00, 594.18it/s]\n"
     ]
    },
    {
     "name": "stdout",
     "output_type": "stream",
     "text": [
      "Cleaned Tweet:  ['i cannot believe you let me down again—i really expected better from you']\n",
      "output tensor([[-0.0217,  0.0264, -0.0153]], device='mps:0')\n",
      "prediction 1\n",
      "Prediction:  Disappointed\n"
     ]
    }
   ],
   "source": [
    "print(\"Prediction: \", get_prediction(input_text, model_name))"
   ]
  },
  {
   "cell_type": "code",
   "execution_count": null,
   "id": "e8f34b12-d022-4bc4-9d6b-f420b2bb7420",
   "metadata": {},
   "outputs": [],
   "source": [
    "examples = [\n",
    "    \"I am so mad right now, this is ridiculous.\",   # Angry\n",
    "    \"What a beautiful day! I’m feeling great!\",     # Happy\n",
    "    \"I really expected better, this hurts.\"         # Disappointed\n",
    "]\n",
    "\n",
    "for text in examples:\n",
    "    prediction = predict(text, 'LSTM')  # or your model\n",
    "    print(f\"Input: {text} → Predicted class: {prediction}\")\n",
    "\n",
    "\n"
   ]
  },
  {
   "cell_type": "markdown",
   "id": "93ca3fba-0804-4b29-8212-9aef65e98deb",
   "metadata": {},
   "source": [
    "### MLP Model Predictions"
   ]
  },
  {
   "cell_type": "code",
   "execution_count": 219,
   "id": "bc68b1b0-2357-4ec1-8839-86e0c0a9a7d2",
   "metadata": {},
   "outputs": [],
   "source": [
    "input_text = \"I am happy\"\n",
    "model_name = \"MLP\""
   ]
  },
  {
   "cell_type": "code",
   "execution_count": 220,
   "id": "f6d7dda7-3804-4cf1-98a3-97a52435550c",
   "metadata": {},
   "outputs": [
    {
     "name": "stderr",
     "output_type": "stream",
     "text": [
      "100%|████████████████████████████████████████████| 1/1 [00:00<00:00, 828.10it/s]\n"
     ]
    },
    {
     "name": "stdout",
     "output_type": "stream",
     "text": [
      "output tensor([[ 0.8604, -0.1291, -0.7487]], device='mps:0')\n",
      "prediction 0\n",
      "Prediction:  Angry\n"
     ]
    }
   ],
   "source": [
    "print(\"Prediction: \", get_prediction(input_text, model_name))"
   ]
  },
  {
   "cell_type": "markdown",
   "id": "33158be6-1161-44b2-9c1d-12f880d1f8cf",
   "metadata": {},
   "source": [
    "### LSTM Multi Head Attention Model Predictions"
   ]
  },
  {
   "cell_type": "code",
   "execution_count": 178,
   "id": "8e486d03-60db-4876-89a2-799fa28c389d",
   "metadata": {},
   "outputs": [],
   "source": [
    "input_text = \"I can't believe you let me down again—I really expected better from you.\"\n",
    "model_name = \"LSTM_MH\""
   ]
  },
  {
   "cell_type": "code",
   "execution_count": 179,
   "id": "bf6abc3e-3e57-4a69-990f-5bfe41b07905",
   "metadata": {},
   "outputs": [
    {
     "name": "stderr",
     "output_type": "stream",
     "text": [
      "100%|████████████████████████████████████████████| 1/1 [00:00<00:00, 463.82it/s]\n"
     ]
    },
    {
     "name": "stdout",
     "output_type": "stream",
     "text": [
      "Prediction:  Disappointed\n"
     ]
    }
   ],
   "source": [
    "print(\"Prediction: \", get_prediction(input_text, model_name))"
   ]
  },
  {
   "cell_type": "markdown",
   "id": "7c589b45-0c72-49c4-884d-ac920d1e972f",
   "metadata": {},
   "source": [
    "### RCNN Predictions"
   ]
  },
  {
   "cell_type": "code",
   "execution_count": 191,
   "id": "99ffcdf4-4812-4a63-9eb8-c0b3236b26e5",
   "metadata": {},
   "outputs": [],
   "source": [
    "input_text = \"i miss my guitar\"\n",
    "model_name = \"LSTM_MH\""
   ]
  },
  {
   "cell_type": "code",
   "execution_count": 192,
   "id": "009abe68-ca4a-4c82-817f-d9d0c2aa39ea",
   "metadata": {},
   "outputs": [
    {
     "name": "stderr",
     "output_type": "stream",
     "text": [
      "100%|████████████████████████████████████████████| 1/1 [00:00<00:00, 624.62it/s]\n"
     ]
    },
    {
     "name": "stdout",
     "output_type": "stream",
     "text": [
      "output tensor([[-0.0105,  0.0413, -0.0053]], device='mps:0')\n",
      "prediction 1\n",
      "Prediction:  Disappointed\n"
     ]
    }
   ],
   "source": [
    "print(\"Prediction: \", get_prediction(input_text, model_name))"
   ]
  },
  {
   "cell_type": "code",
   "execution_count": null,
   "id": "1a7a83b2-2adb-4b18-92ad-a97f871c0c3c",
   "metadata": {},
   "outputs": [],
   "source": []
  }
 ],
 "metadata": {
  "kernelspec": {
   "display_name": "Python 3 (ipykernel)",
   "language": "python",
   "name": "python3"
  },
  "language_info": {
   "codemirror_mode": {
    "name": "ipython",
    "version": 3
   },
   "file_extension": ".py",
   "mimetype": "text/x-python",
   "name": "python",
   "nbconvert_exporter": "python",
   "pygments_lexer": "ipython3",
   "version": "3.12.4"
  }
 },
 "nbformat": 4,
 "nbformat_minor": 5
}
