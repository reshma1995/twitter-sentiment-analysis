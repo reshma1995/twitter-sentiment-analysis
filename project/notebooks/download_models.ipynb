{
 "cells": [
  {
   "cell_type": "code",
   "execution_count": 2,
   "id": "adcac281-9a99-46b9-86ab-8e3ab94c7d82",
   "metadata": {},
   "outputs": [
    {
     "name": "stdout",
     "output_type": "stream",
     "text": [
      "../src/models/BiGRU_Attention_Residual  already exists\n",
      "../src/models/RCNN_Text_Classifier  already exists\n",
      "../src/models/LSTM_Multi_Head_Attention  already exists\n",
      "../src/models/MLP_Classifier  already exists\n",
      "../src/models/LSTM_Text_Classifier  already exists\n",
      "../src/models/CNN_Model  already exists\n"
     ]
    }
   ],
   "source": [
    "import gdown\n",
    "import os\n",
    "\n",
    "# The models are available in a public drive link\n",
    "google_drive_links = [\n",
    "    {\n",
    "        \"link\": 'https://drive.google.com/uc?id=1mCzvcKPYFVHK2BKQgQNdZCD_pXOkJ58v',\n",
    "        \"model\": \"BiGRU_Attention_Residual\"\n",
    "    },\n",
    "    {\n",
    "        \"link\": 'https://drive.google.com/uc?id=1GXEvoJB7bRtRhPMT76oKJc8Dbpt9V7Nd',\n",
    "        \"model\": \"RCNN_Text_Classifier\"\n",
    "    },\n",
    "    {\n",
    "        \"link\": 'https://drive.google.com/uc?id=1PMOUv7vTZbLrXJRlkw2h1X7RTSrs-2rM',\n",
    "        \"model\": \"LSTM_Multi_Head_Attention\"\n",
    "    },\n",
    "    {\n",
    "        \"link\": 'https://drive.google.com/uc?id=1EuDnAeisrSmUQWtXY4KTssKZNl4cqsTu',\n",
    "        \"model\": \"MLP_Classifier\"\n",
    "    },\n",
    "    {\n",
    "        \"link\": 'https://drive.google.com/uc?id=14F5iax7OLhKcdoIOykbmp7OBtsoJbgTX',\n",
    "        \"model\": \"LSTM_Text_Classifier\"\n",
    "    },\n",
    "    {\n",
    "        \"link\": \"https://drive.google.com/uc?id=1R0tNVOwNvQsELw0wYs1DnF41mR1SNyzJ\",\n",
    "        \"model\": \"CNN_Model\"\n",
    "    }\n",
    "]\n",
    "\n",
    "for i in google_drive_links:\n",
    "    output_file = \"../src/models/\" + i[\"model\"]\n",
    "    if os.path.exists(output_file):\n",
    "        print(output_file, \" already exists\")\n",
    "    else:\n",
    "        gdown.download(i[\"link\"], output_file, quiet=False)"
   ]
  },
  {
   "cell_type": "code",
   "execution_count": null,
   "id": "60bdc307-d878-46af-af00-ecbe0876f16e",
   "metadata": {},
   "outputs": [],
   "source": []
  }
 ],
 "metadata": {
  "kernelspec": {
   "display_name": "Python 3 (ipykernel)",
   "language": "python",
   "name": "python3"
  },
  "language_info": {
   "codemirror_mode": {
    "name": "ipython",
    "version": 3
   },
   "file_extension": ".py",
   "mimetype": "text/x-python",
   "name": "python",
   "nbconvert_exporter": "python",
   "pygments_lexer": "ipython3",
   "version": "3.12.4"
  }
 },
 "nbformat": 4,
 "nbformat_minor": 5
}
