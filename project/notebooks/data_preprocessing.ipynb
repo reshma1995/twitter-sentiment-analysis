{
 "cells": [
  {
   "cell_type": "markdown",
   "id": "5754bb0b-4a9a-435f-a219-4ee7f0d1bb32",
   "metadata": {},
   "source": [
    "### Data Preprocessing"
   ]
  },
  {
   "cell_type": "markdown",
   "id": "bb5928a8-e8f3-404b-b232-ddeeb94d367d",
   "metadata": {},
   "source": [
    "- Remove URLs"
   ]
  },
  {
   "cell_type": "code",
   "execution_count": 71,
   "id": "a0ad1efe-f1bd-4278-af85-fcb884fd13d0",
   "metadata": {},
   "outputs": [],
   "source": [
    "import re\n",
    "import string\n",
    "from tqdm import tqdm\n",
    "from bs4 import BeautifulSoup"
   ]
  },
  {
   "cell_type": "code",
   "execution_count": 5,
   "id": "f69e885e-0e57-4c36-9752-768f56a7aaf8",
   "metadata": {},
   "outputs": [],
   "source": [
    "def remove_urls(text):\n",
    "    url_pattern = re.compile(r'https?://\\S+|www\\.\\S+|bit\\.ly/\\S+|t\\.co/\\S+|tinyurl\\.\\S+')\n",
    "    return url_pattern.sub('', text)"
   ]
  },
  {
   "cell_type": "code",
   "execution_count": 8,
   "id": "95a0b287-3748-4805-bf85-6e9eeae3c956",
   "metadata": {},
   "outputs": [
    {
     "name": "stdout",
     "output_type": "stream",
     "text": [
      "An example of a website  is a decent url\n"
     ]
    }
   ],
   "source": [
    "url_text = \"An example of a website http://yahoo.com is a decent url\"\n",
    "url_output = remove_urls(url_text)\n",
    "print(url_output)"
   ]
  },
  {
   "cell_type": "markdown",
   "id": "40a1f1a0-5f06-4ab3-9628-6c1fb246a093",
   "metadata": {},
   "source": [
    "- Remove the numbers"
   ]
  },
  {
   "cell_type": "code",
   "execution_count": 11,
   "id": "888b2e21-1b68-488b-8aea-dbb6a37f654c",
   "metadata": {},
   "outputs": [],
   "source": [
    "def remove_numbers(text):\n",
    "    numbers = re.compile(r'[0-9]+')\n",
    "    return numbers.sub('',text)"
   ]
  },
  {
   "cell_type": "code",
   "execution_count": 13,
   "id": "19823b83-c6ea-41b5-a1a6-da2fb5f9679b",
   "metadata": {},
   "outputs": [
    {
     "name": "stdout",
     "output_type": "stream",
     "text": [
      "My phone number is . Please call me after pm\n"
     ]
    }
   ],
   "source": [
    "num_text = \"My phone number is 82391231231. Please call me after 9pm\"\n",
    "num_output = remove_numbers(num_text)\n",
    "print(num_output)"
   ]
  },
  {
   "cell_type": "markdown",
   "id": "1b86c4fc-1b40-46cb-9bd6-ce329f964f17",
   "metadata": {},
   "source": [
    "- Remove mentions with @"
   ]
  },
  {
   "cell_type": "code",
   "execution_count": 20,
   "id": "378c6792-97df-47c9-a45b-2d5691f23410",
   "metadata": {},
   "outputs": [],
   "source": [
    "def remove_mentions(text):\n",
    "    mentions = re.compile(r'@[a-zA-Z0-9_]+')\n",
    "    return mentions.sub('',text)"
   ]
  },
  {
   "cell_type": "code",
   "execution_count": 21,
   "id": "8c0b6614-33a2-45d5-8d2d-4ba6cbd741ac",
   "metadata": {},
   "outputs": [
    {
     "name": "stdout",
     "output_type": "stream",
     "text": [
      "Hey , you are a champ.  you can do better\n"
     ]
    }
   ],
   "source": [
    "men_text = \"Hey @Oscar_Piastri, you are a champ. @Lando_Norris_007 you can do better\"\n",
    "men_output = remove_mentions(men_text)\n",
    "print(men_output)"
   ]
  },
  {
   "cell_type": "markdown",
   "id": "2c68420b-9c46-41c2-96cc-6e69fb911d5d",
   "metadata": {},
   "source": [
    "- Remove html tags"
   ]
  },
  {
   "cell_type": "code",
   "execution_count": 26,
   "id": "d3cd7deb-81bf-464b-b2b8-bac9afdd3ffc",
   "metadata": {},
   "outputs": [],
   "source": [
    "def clean_html_tags(text):\n",
    "    return BeautifulSoup(text).get_text()"
   ]
  },
  {
   "cell_type": "code",
   "execution_count": 28,
   "id": "d6ab97e2-c935-47d0-a763-454b3d8d63aa",
   "metadata": {},
   "outputs": [
    {
     "name": "stdout",
     "output_type": "stream",
     "text": [
      "Hello There\n"
     ]
    }
   ],
   "source": [
    "html_text = \"<section>Hello There</section>\"\n",
    "html_output = clean_html_tags(html_text)\n",
    "print(html_output)"
   ]
  },
  {
   "cell_type": "markdown",
   "id": "977ab0f1-3506-4ae0-8683-a7eeceffe3c7",
   "metadata": {},
   "source": [
    "- Remove emoticons"
   ]
  },
  {
   "cell_type": "code",
   "execution_count": 43,
   "id": "ea70e8eb-922b-46ca-b199-98622ce289a6",
   "metadata": {},
   "outputs": [],
   "source": [
    "def handle_emoticons(text):\n",
    "    emoticon_pattern = re.compile(r':([\\w-]+):')\n",
    "    modified_sentence = emoticon_pattern.sub(lambda match: ' '+match.group(1).replace('_', '')+' ', text)\n",
    "    return re.sub(r'\\s+', ' ', modified_sentence)"
   ]
  },
  {
   "cell_type": "code",
   "execution_count": 47,
   "id": "1749f8fd-d255-48f7-8f11-d365707dbee9",
   "metadata": {},
   "outputs": [
    {
     "name": "stdout",
     "output_type": "stream",
     "text": [
      "😃💁 Hello There :-) :D\n"
     ]
    }
   ],
   "source": [
    "emo_text = \"😃💁 Hello There :-) :D\"\n",
    "emo_output = handle_emoticons(emo_text)\n",
    "print(emo_output)"
   ]
  },
  {
   "cell_type": "markdown",
   "id": "231f31f7-ac52-4279-b617-6dacb8cabb6e",
   "metadata": {},
   "source": [
    "- Handle short forms or acronyms"
   ]
  },
  {
   "cell_type": "code",
   "execution_count": 48,
   "id": "04189186-6a91-48d8-9edb-2c6dc15044bc",
   "metadata": {},
   "outputs": [],
   "source": [
    "def handle_acronyms(text):\n",
    "    acronym_dict = {'afaik':'as far as i know','ama':'ask me anything','api':'application programming interface','asmr':'autonomous sensory meridian response','bc':'because'\n",
    "                    ,'b2b':'business-to-business','b2c':'business-to-consumer','b4':'before','bae':'before anyone else',\n",
    "                   'bff':'best friends forever','brb':'be right back','btaim':'be that as it may','bts':'behind the scenes','bwl':'bursting with laughter',\n",
    "                   'btw':'by the way','cc':'carbon copy','cpc':'cost per click','csl':'cannot stop laughing','bftba':'do not forget to be awesome',\n",
    "                   'f2f':'face to face','fb':'facebook','fomo':'fear of missing out','ftfy':'fixed that for you',\n",
    "                   'ftw':'for the win','gg':'good game','gr8':'great','grwm':'get ready with me',\n",
    "                   'goat':'greatest of all time','gtg':'got to go','gtr':'got to run','hbd':'happy birthday',\n",
    "                   'hmb':'hit me back','hifw':'how i feel when','hmu':'hit me up','hth':'happy to help',\n",
    "                   'idc':'i do not care','idk':'i do not know','ifyp':'i feel your pain','ig':'instagram','ikr':'i know right','ily':'i love you',\n",
    "                   'im':'instant message','imho':'in my humble opinion','imo':'in my opinion','imu':'i miss you',\n",
    "                   'irl':'in real life','jk':'just kidding','l8':'late','lamo': 'laughing my ass off','lmk':'let me know','lms':'like my status',\n",
    "                   'lol':'laughing out loud','lolz':'laughing out loud','mcm':'man crush monday','mfw':'my face when',\n",
    "                   'mm':'music monday','msg':'message','mtfbwy':'may the force be with you',\n",
    "                   'nbd':'no big deal','nm':'not much','nsfl':'not safe for life','nsfw':'not safe for work',\n",
    "                   'nvm':'never mind','oan':'on another note',\n",
    "                   'omg':'oh my god','omw':'on my way',\n",
    "                   'ootd':'outfit of the day','op':'original poster','otp':'one true pairing','potd':'photo of the day',\n",
    "                   'ppc':'pay per click','pm':'private message','ppl':'people','pr':'pagerank','psa':'public service accouncement',\n",
    "                   'qotd':'quote of the day','qq':'crying','rofl':'rolling on the floor laughing','roflmao':'rolling on the floor laughing my ass off',\n",
    "                   'roi':'return on investment','rt':'retweet','sc':'snapchat','sem':'search engine marketing','sm':'social media','smh':'shaking my head','sus':'suspicious','tbh':'to be honest',\n",
    "                   'tbt':'throwback thursday','tfw':'that feeling when','tgif':'thank goodness it is friday',\n",
    "                   'thx':'thanks','til':'today i learned','tldr':'too long did not read','tmi':'too much information','tntl':'trying not to laugh',\n",
    "                   'ttyl':'talk to you later','ttyn':'talk to you never','tw':'twitter','txt': 'text','wbu':'what about you ?','w/':'with','wcw':'women crush wednesday',\n",
    "                   'wfh':'work from home','wdymbt':'what do you mean by that?','wom':'word of mouth','wotd':'word of the day',\n",
    "                   'wywh':'wish you were here','ygtr':'you got that right','yolo':'you only live once','ysk':'you should know',\n",
    "                   'yt':'youtube'}\n",
    "    pattern = re.compile(r'\\b(' + '|'.join(re.escape(key) for key in acronym_dict.keys()) + r')\\b')\n",
    "    return pattern.sub(lambda match: acronym_dict[match.group(0)], text)"
   ]
  },
  {
   "cell_type": "code",
   "execution_count": 53,
   "id": "b33ce1c6-188d-4103-b3fa-a238f058d259",
   "metadata": {},
   "outputs": [
    {
     "name": "stdout",
     "output_type": "stream",
     "text": [
      "hey best friends forever! oh my god its music monday. in my opinion we shoud hit it. let me know and i'll be on my way\n"
     ]
    }
   ],
   "source": [
    "ac_text = \"hey bff! omg its mm. imo we shoud hit it. lmk and i'll be omw\"\n",
    "ac_output = handle_acronyms(ac_text)\n",
    "print(ac_output)"
   ]
  },
  {
   "cell_type": "markdown",
   "id": "d5bfee52-a827-499b-b5fa-3f578dcc0f47",
   "metadata": {},
   "source": [
    "- Handle Contractions"
   ]
  },
  {
   "cell_type": "code",
   "execution_count": 54,
   "id": "cf3effba-28f1-425c-a31c-bbcecdee1699",
   "metadata": {},
   "outputs": [],
   "source": [
    "def handle_contractions(text):\n",
    "    CONTRACTION_MAP = {\n",
    "        \"ain't\": \"is not\", \"aren't\": \"are not\", \"can't\": \"cannot\",\n",
    "        \"can't've\": \"cannot have\", \"'cause\": \"because\", \"could've\": \"could have\", \"couldn't\": \"could not\",\n",
    "        \"couldn't've\": \"could not have\", \"didn't\": \"did not\", \"doesn't\": \"does not\",\n",
    "        \"don't\": \"do not\", \"hadn't\": \"had not\",\n",
    "        \"hadn't've\": \"had not have\", \"hasn't\": \"has not\", \"haven't\": \"have not\", \"he'd\": \"he would\",\n",
    "        \"he'd've\": \"he would have\", \"he'll\": \"he will\", \"he'll've\": \"he will have\", \"he's\": \"he is\",\n",
    "        \"how'd\": \"how did\", \"how'd'y\": \"how do you\", \"how'll\": \"how will\", \"how's\": \"how is\", \"I'd\": \"I would\",\n",
    "        \"I'd've\": \"I would have\", \"I'll\": \"I will\", \"I'll've\": \"I will have\", \"I'm\": \"I am\", \"I've\": \"I have\",\n",
    "        \"i'd\": \"i would\", \"i'd've\": \"i would have\", \"i'll\": \"i will\", \"i'll've\": \"i will have\",\n",
    "        \"i'm\": \"i am\", \"i've\": \"i have\", \"isn't\": \"is not\", \"it'd\": \"it would\", \"it'd've\": \"it would have\",\n",
    "        \"it'll\": \"it will\", \"it'll've\": \"it will have\",\n",
    "        \"it's\": \"it is\",\n",
    "        \"let's\": \"let us\",\n",
    "        \"ma'am\": \"madam\",\n",
    "        \"mayn't\": \"may not\",\n",
    "        \"might've\": \"might have\",\n",
    "        \"mightn't\": \"might not\",\n",
    "        \"mightn't've\": \"might not have\",\n",
    "        \"must've\": \"must have\",\n",
    "        \"mustn't\": \"must not\",\n",
    "        \"mustn't've\": \"must not have\",\n",
    "        \"needn't\": \"need not\",\n",
    "        \"needn't've\": \"need not have\",\n",
    "        \"o'clock\": \"of the clock\",\n",
    "        \"oughtn't\": \"ought not\",\n",
    "        \"oughtn't've\": \"ought not have\",\n",
    "        \"shan't\": \"shall not\",\n",
    "        \"sha'n't\": \"shall not\",\n",
    "        \"shan't've\": \"shall not have\",\n",
    "        \"she'd\": \"she would\",\n",
    "        \"she'd've\": \"she would have\",\n",
    "        \"she'll\": \"she will\",\n",
    "        \"she'll've\": \"she will have\",\n",
    "        \"she's\": \"she is\",\n",
    "        \"should've\": \"should have\",\n",
    "        \"shouldn't\": \"should not\",\n",
    "        \"shouldn't've\": \"should not have\",\n",
    "        \"so've\": \"so have\",\n",
    "        \"so's\": \"so as\",\n",
    "        \"that'd\": \"that would\",\n",
    "        \"that'd've\": \"that would have\",\n",
    "        \"that's\": \"that is\",\n",
    "        \"there'd\": \"there would\",\n",
    "        \"there'd've\": \"there would have\",\n",
    "        \"there's\": \"there is\",\n",
    "        \"they'd\": \"they would\",\n",
    "        \"they'd've\": \"they would have\",\n",
    "        \"they'll\": \"they will\",\n",
    "        \"they'll've\": \"they will have\",\n",
    "        \"they're\": \"they are\",\n",
    "        \"they've\": \"they have\",\n",
    "        \"to've\": \"to have\",\n",
    "        \"wasn't\": \"was not\",\n",
    "        \"we'd\": \"we would\",\n",
    "        \"we'd've\": \"we would have\",\n",
    "        \"we'll\": \"we will\",\n",
    "        \"we'll've\": \"we will have\",\n",
    "        \"we're\": \"we are\",\n",
    "        \"we've\": \"we have\",\n",
    "        \"weren't\": \"were not\",\n",
    "        \"what'll\": \"what will\",\n",
    "        \"what'll've\": \"what will have\",\n",
    "        \"what're\": \"what are\",\n",
    "        \"what's\": \"what is\",\n",
    "        \"what've\": \"what have\",\n",
    "        \"when's\": \"when is\",\n",
    "        \"when've\": \"when have\",\n",
    "        \"where'd\": \"where did\",\n",
    "        \"where's\": \"where is\",\n",
    "        \"where've\": \"where have\",\n",
    "        \"who'll\": \"who will\",\n",
    "        \"who'll've\": \"who will have\",\n",
    "        \"who's\": \"who is\",\n",
    "        \"who've\": \"who have\",\n",
    "        \"why's\": \"why is\",\n",
    "        \"why've\": \"why have\",\n",
    "        \"will've\": \"will have\",\n",
    "        \"won't\": \"will not\",\n",
    "        \"won't've\": \"will not have\",\n",
    "        \"would've\": \"would have\",\n",
    "        \"wouldn't\": \"would not\",\n",
    "        \"wouldn't've\": \"would not have\",\n",
    "        \"y'all\": \"you all\",\n",
    "        \"y'all'd\": \"you all would\",\n",
    "        \"y'all'd've\": \"you all would have\",\n",
    "        \"y'all're\": \"you all are\",\n",
    "        \"y'all've\": \"you all have\",\n",
    "        \"you'd\": \"you would\",\n",
    "        \"you'd've\": \"you would have\",\n",
    "        \"you'll\": \"you will\",\n",
    "        \"you'll've\": \"you will have\",\n",
    "        \"you're\": \"you are\",\n",
    "        \"you've\": \"you have\"\n",
    "    }\n",
    "    pattern = re.compile(r'\\b(' + '|'.join(re.escape(key) for key in CONTRACTION_MAP.keys()) + r')\\b')\n",
    "    return pattern.sub(lambda match: CONTRACTION_MAP[match.group(0)], text)"
   ]
  },
  {
   "cell_type": "code",
   "execution_count": 57,
   "id": "f39b9ac3-5f02-443d-9564-37885d3324d9",
   "metadata": {},
   "outputs": [
    {
     "name": "stdout",
     "output_type": "stream",
     "text": [
      "hey girl! it is music monday. let us gooo. what about you all? any idea when is it\n"
     ]
    }
   ],
   "source": [
    "ct_text = \"hey girl! it's music monday. let's gooo. what about y'all? any idea when's it\"\n",
    "ct_output = handle_contractions(ct_text)\n",
    "print(ct_output)"
   ]
  },
  {
   "cell_type": "markdown",
   "id": "390be3fd-5eff-4a48-b45e-7c6053ee4681",
   "metadata": {},
   "source": [
    "- Remove punctuations"
   ]
  },
  {
   "cell_type": "code",
   "execution_count": 61,
   "id": "f5e822d7-960e-4f95-9e29-3f0f5f01d17c",
   "metadata": {},
   "outputs": [],
   "source": [
    "def remove_punctuations(text):\n",
    "    translator = str.maketrans(\"\", \"\", string.punctuation)\n",
    "    return text.translate(translator)"
   ]
  },
  {
   "cell_type": "code",
   "execution_count": 65,
   "id": "3cff2c0f-d6f2-4663-876e-b74596590673",
   "metadata": {},
   "outputs": [
    {
     "name": "stdout",
     "output_type": "stream",
     "text": [
      "Hello How are you\n"
     ]
    }
   ],
   "source": [
    "rp_text = \"Hello. How are you?\"\n",
    "rp_output = remove_punctuations(rp_text)\n",
    "print(rp_output)"
   ]
  },
  {
   "cell_type": "markdown",
   "id": "30819a01-98ad-484b-bc32-02e9b186db4c",
   "metadata": {},
   "source": [
    "- Remove Hashtags"
   ]
  },
  {
   "cell_type": "code",
   "execution_count": 67,
   "id": "c1638bba-57f1-4b49-a500-9edfc0b6c835",
   "metadata": {},
   "outputs": [],
   "source": [
    "def handle_hashtags(text):\n",
    "    hashtag = re.compile(r'#')\n",
    "    return hashtag.sub('',text)"
   ]
  },
  {
   "cell_type": "code",
   "execution_count": 68,
   "id": "700a325c-24a4-4bbc-85ea-2acbf0fa81a6",
   "metadata": {},
   "outputs": [
    {
     "name": "stdout",
     "output_type": "stream",
     "text": [
      "Traveling World! travel japan ootd\n"
     ]
    }
   ],
   "source": [
    "hash_text = \"Traveling World! #travel #japan #ootd\"\n",
    "hash_output = handle_hashtags(hash_text)\n",
    "print(hash_output)"
   ]
  },
  {
   "cell_type": "markdown",
   "id": "fad695a2-e4f3-4181-a465-c8453e399cc8",
   "metadata": {},
   "source": [
    "- Aggregated function with overall clean"
   ]
  },
  {
   "cell_type": "code",
   "execution_count": 69,
   "id": "a941c7bf-4e73-4e23-b4de-4f53c478b553",
   "metadata": {},
   "outputs": [],
   "source": [
    "cleaned_tweets = []\n",
    "\n",
    "def clean_tweet(texts):\n",
    "    for text in tqdm(texts):\n",
    "        text = text.replace(\"\\\\'\", \"'\")\n",
    "        if text.startswith(\"b'\") or text.startswith('b\"'):\n",
    "            text = text[2:-1]\n",
    "        text = text.replace('\\n', ' ').replace('\\t', ' ').lower()\n",
    "        rt_pattern = re.compile(r'^\\s*rt\\s+', re.IGNORECASE)\n",
    "        text = rt_pattern.sub('', text)\n",
    "        urls_removed = remove_urls(text)\n",
    "        numbers_removed = remove_numbers(urls_removed)\n",
    "        mentions_removed = remove_mentions(numbers_removed)\n",
    "        html_removed = clean_html_tags(mentions_removed)\n",
    "        hashtag_removed = handle_hashtags(html_removed)\n",
    "        acronyms_expanded = handle_acronyms(hashtag_removed)\n",
    "        contractions_expanded = handle_contractions(acronyms_expanded)\n",
    "        emoticons_cleaned = handle_emoticons(contractions_expanded)\n",
    "        punctuations_removed = remove_punctuations(emoticons_cleaned)\n",
    "        cleaned_tweets.append(punctuations_removed.strip())\n",
    "    return cleaned_tweets"
   ]
  },
  {
   "cell_type": "code",
   "execution_count": 73,
   "id": "d1ba217f-ae4c-4723-bb59-d963a06dd675",
   "metadata": {},
   "outputs": [
    {
     "name": "stderr",
     "output_type": "stream",
     "text": [
      "100%|████████████████████████████████████████████| 1/1 [00:00<00:00, 644.29it/s]"
     ]
    },
    {
     "name": "stdout",
     "output_type": "stream",
     "text": [
      "hey best friends forever  oh my god its music monday in my opinion we shoud hit it what about you all book tickets at call me at travel japan outfit of the day\n"
     ]
    },
    {
     "name": "stderr",
     "output_type": "stream",
     "text": [
      "\n"
     ]
    }
   ],
   "source": [
    "tweets = [\n",
    "    \"<section>hey bff @harry_11 ! omg its mm. imo we shoud hit it. what about y'all? book tickets at http://lalaland.com. call me at 8181818292 #travel #japan #ootd</section>\"\n",
    "]\n",
    "cleaned_data = clean_tweet(tweets)\n",
    "print(cleaned_data[0])"
   ]
  },
  {
   "cell_type": "code",
   "execution_count": null,
   "id": "e80b13a9-b189-4482-bb63-57da8f695383",
   "metadata": {},
   "outputs": [],
   "source": []
  }
 ],
 "metadata": {
  "kernelspec": {
   "display_name": "Python 3 (ipykernel)",
   "language": "python",
   "name": "python3"
  },
  "language_info": {
   "codemirror_mode": {
    "name": "ipython",
    "version": 3
   },
   "file_extension": ".py",
   "mimetype": "text/x-python",
   "name": "python",
   "nbconvert_exporter": "python",
   "pygments_lexer": "ipython3",
   "version": "3.12.4"
  }
 },
 "nbformat": 4,
 "nbformat_minor": 5
}
